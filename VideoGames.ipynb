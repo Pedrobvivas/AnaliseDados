{
  "nbformat": 4,
  "nbformat_minor": 0,
  "metadata": {
    "colab": {
      "provenance": [],
      "authorship_tag": "ABX9TyO6XmL98bU26j/PUiyBcx9U",
      "include_colab_link": true
    },
    "kernelspec": {
      "name": "python3",
      "display_name": "Python 3"
    },
    "language_info": {
      "name": "python"
    }
  },
  "cells": [
    {
      "cell_type": "markdown",
      "metadata": {
        "id": "view-in-github",
        "colab_type": "text"
      },
      "source": [
        "<a href=\"https://colab.research.google.com/github/Pedrobvivas/AnaliseDados/blob/main/VideoGames.ipynb\" target=\"_parent\"><img src=\"https://colab.research.google.com/assets/colab-badge.svg\" alt=\"Open In Colab\"/></a>"
      ]
    },
    {
      "cell_type": "code",
      "execution_count": 7,
      "metadata": {
        "colab": {
          "base_uri": "https://localhost:8080/",
          "height": 206
        },
        "id": "NEk5GmyQhbAW",
        "outputId": "e33f002f-03da-4eda-c66f-e8d4ab132216"
      },
      "outputs": [
        {
          "output_type": "execute_result",
          "data": {
            "text/plain": [
              "                     Nome Plataforma  Ano Fabricado    Genêro  Vendas Globais  \\\n",
              "0                    Doom         PC           1992   Shooter            0.03   \n",
              "1  Battle Arena Toshinden         PS           1994  Fighting            1.27   \n",
              "2           Resident Evil         PS           1996    Action            5.05   \n",
              "3      PaRappa The Rapper         PS           1996      Misc            1.92   \n",
              "4             Tomb Raider         PC           1996    Action            1.03   \n",
              "\n",
              "   Pontuação User  Contador do User  \n",
              "0             8.2              1796  \n",
              "1             6.3                 4  \n",
              "2             9.0               266  \n",
              "3             7.4                48  \n",
              "4             8.5              3552  "
            ],
            "text/html": [
              "\n",
              "  <div id=\"df-de632d59-b624-4d2a-afdb-01bedb156db0\" class=\"colab-df-container\">\n",
              "    <div>\n",
              "<style scoped>\n",
              "    .dataframe tbody tr th:only-of-type {\n",
              "        vertical-align: middle;\n",
              "    }\n",
              "\n",
              "    .dataframe tbody tr th {\n",
              "        vertical-align: top;\n",
              "    }\n",
              "\n",
              "    .dataframe thead th {\n",
              "        text-align: right;\n",
              "    }\n",
              "</style>\n",
              "<table border=\"1\" class=\"dataframe\">\n",
              "  <thead>\n",
              "    <tr style=\"text-align: right;\">\n",
              "      <th></th>\n",
              "      <th>Nome</th>\n",
              "      <th>Plataforma</th>\n",
              "      <th>Ano Fabricado</th>\n",
              "      <th>Genêro</th>\n",
              "      <th>Vendas Globais</th>\n",
              "      <th>Pontuação User</th>\n",
              "      <th>Contador do User</th>\n",
              "    </tr>\n",
              "  </thead>\n",
              "  <tbody>\n",
              "    <tr>\n",
              "      <th>0</th>\n",
              "      <td>Doom</td>\n",
              "      <td>PC</td>\n",
              "      <td>1992</td>\n",
              "      <td>Shooter</td>\n",
              "      <td>0.03</td>\n",
              "      <td>8.2</td>\n",
              "      <td>1796</td>\n",
              "    </tr>\n",
              "    <tr>\n",
              "      <th>1</th>\n",
              "      <td>Battle Arena Toshinden</td>\n",
              "      <td>PS</td>\n",
              "      <td>1994</td>\n",
              "      <td>Fighting</td>\n",
              "      <td>1.27</td>\n",
              "      <td>6.3</td>\n",
              "      <td>4</td>\n",
              "    </tr>\n",
              "    <tr>\n",
              "      <th>2</th>\n",
              "      <td>Resident Evil</td>\n",
              "      <td>PS</td>\n",
              "      <td>1996</td>\n",
              "      <td>Action</td>\n",
              "      <td>5.05</td>\n",
              "      <td>9.0</td>\n",
              "      <td>266</td>\n",
              "    </tr>\n",
              "    <tr>\n",
              "      <th>3</th>\n",
              "      <td>PaRappa The Rapper</td>\n",
              "      <td>PS</td>\n",
              "      <td>1996</td>\n",
              "      <td>Misc</td>\n",
              "      <td>1.92</td>\n",
              "      <td>7.4</td>\n",
              "      <td>48</td>\n",
              "    </tr>\n",
              "    <tr>\n",
              "      <th>4</th>\n",
              "      <td>Tomb Raider</td>\n",
              "      <td>PC</td>\n",
              "      <td>1996</td>\n",
              "      <td>Action</td>\n",
              "      <td>1.03</td>\n",
              "      <td>8.5</td>\n",
              "      <td>3552</td>\n",
              "    </tr>\n",
              "  </tbody>\n",
              "</table>\n",
              "</div>\n",
              "    <div class=\"colab-df-buttons\">\n",
              "\n",
              "  <div class=\"colab-df-container\">\n",
              "    <button class=\"colab-df-convert\" onclick=\"convertToInteractive('df-de632d59-b624-4d2a-afdb-01bedb156db0')\"\n",
              "            title=\"Convert this dataframe to an interactive table.\"\n",
              "            style=\"display:none;\">\n",
              "\n",
              "  <svg xmlns=\"http://www.w3.org/2000/svg\" height=\"24px\" viewBox=\"0 -960 960 960\">\n",
              "    <path d=\"M120-120v-720h720v720H120Zm60-500h600v-160H180v160Zm220 220h160v-160H400v160Zm0 220h160v-160H400v160ZM180-400h160v-160H180v160Zm440 0h160v-160H620v160ZM180-180h160v-160H180v160Zm440 0h160v-160H620v160Z\"/>\n",
              "  </svg>\n",
              "    </button>\n",
              "\n",
              "  <style>\n",
              "    .colab-df-container {\n",
              "      display:flex;\n",
              "      gap: 12px;\n",
              "    }\n",
              "\n",
              "    .colab-df-convert {\n",
              "      background-color: #E8F0FE;\n",
              "      border: none;\n",
              "      border-radius: 50%;\n",
              "      cursor: pointer;\n",
              "      display: none;\n",
              "      fill: #1967D2;\n",
              "      height: 32px;\n",
              "      padding: 0 0 0 0;\n",
              "      width: 32px;\n",
              "    }\n",
              "\n",
              "    .colab-df-convert:hover {\n",
              "      background-color: #E2EBFA;\n",
              "      box-shadow: 0px 1px 2px rgba(60, 64, 67, 0.3), 0px 1px 3px 1px rgba(60, 64, 67, 0.15);\n",
              "      fill: #174EA6;\n",
              "    }\n",
              "\n",
              "    .colab-df-buttons div {\n",
              "      margin-bottom: 4px;\n",
              "    }\n",
              "\n",
              "    [theme=dark] .colab-df-convert {\n",
              "      background-color: #3B4455;\n",
              "      fill: #D2E3FC;\n",
              "    }\n",
              "\n",
              "    [theme=dark] .colab-df-convert:hover {\n",
              "      background-color: #434B5C;\n",
              "      box-shadow: 0px 1px 3px 1px rgba(0, 0, 0, 0.15);\n",
              "      filter: drop-shadow(0px 1px 2px rgba(0, 0, 0, 0.3));\n",
              "      fill: #FFFFFF;\n",
              "    }\n",
              "  </style>\n",
              "\n",
              "    <script>\n",
              "      const buttonEl =\n",
              "        document.querySelector('#df-de632d59-b624-4d2a-afdb-01bedb156db0 button.colab-df-convert');\n",
              "      buttonEl.style.display =\n",
              "        google.colab.kernel.accessAllowed ? 'block' : 'none';\n",
              "\n",
              "      async function convertToInteractive(key) {\n",
              "        const element = document.querySelector('#df-de632d59-b624-4d2a-afdb-01bedb156db0');\n",
              "        const dataTable =\n",
              "          await google.colab.kernel.invokeFunction('convertToInteractive',\n",
              "                                                    [key], {});\n",
              "        if (!dataTable) return;\n",
              "\n",
              "        const docLinkHtml = 'Like what you see? Visit the ' +\n",
              "          '<a target=\"_blank\" href=https://colab.research.google.com/notebooks/data_table.ipynb>data table notebook</a>'\n",
              "          + ' to learn more about interactive tables.';\n",
              "        element.innerHTML = '';\n",
              "        dataTable['output_type'] = 'display_data';\n",
              "        await google.colab.output.renderOutput(dataTable, element);\n",
              "        const docLink = document.createElement('div');\n",
              "        docLink.innerHTML = docLinkHtml;\n",
              "        element.appendChild(docLink);\n",
              "      }\n",
              "    </script>\n",
              "  </div>\n",
              "\n",
              "\n",
              "<div id=\"df-0089bf9e-57b4-4ae3-a315-29b310465f5c\">\n",
              "  <button class=\"colab-df-quickchart\" onclick=\"quickchart('df-0089bf9e-57b4-4ae3-a315-29b310465f5c')\"\n",
              "            title=\"Suggest charts\"\n",
              "            style=\"display:none;\">\n",
              "\n",
              "<svg xmlns=\"http://www.w3.org/2000/svg\" height=\"24px\"viewBox=\"0 0 24 24\"\n",
              "     width=\"24px\">\n",
              "    <g>\n",
              "        <path d=\"M19 3H5c-1.1 0-2 .9-2 2v14c0 1.1.9 2 2 2h14c1.1 0 2-.9 2-2V5c0-1.1-.9-2-2-2zM9 17H7v-7h2v7zm4 0h-2V7h2v10zm4 0h-2v-4h2v4z\"/>\n",
              "    </g>\n",
              "</svg>\n",
              "  </button>\n",
              "\n",
              "<style>\n",
              "  .colab-df-quickchart {\n",
              "      --bg-color: #E8F0FE;\n",
              "      --fill-color: #1967D2;\n",
              "      --hover-bg-color: #E2EBFA;\n",
              "      --hover-fill-color: #174EA6;\n",
              "      --disabled-fill-color: #AAA;\n",
              "      --disabled-bg-color: #DDD;\n",
              "  }\n",
              "\n",
              "  [theme=dark] .colab-df-quickchart {\n",
              "      --bg-color: #3B4455;\n",
              "      --fill-color: #D2E3FC;\n",
              "      --hover-bg-color: #434B5C;\n",
              "      --hover-fill-color: #FFFFFF;\n",
              "      --disabled-bg-color: #3B4455;\n",
              "      --disabled-fill-color: #666;\n",
              "  }\n",
              "\n",
              "  .colab-df-quickchart {\n",
              "    background-color: var(--bg-color);\n",
              "    border: none;\n",
              "    border-radius: 50%;\n",
              "    cursor: pointer;\n",
              "    display: none;\n",
              "    fill: var(--fill-color);\n",
              "    height: 32px;\n",
              "    padding: 0;\n",
              "    width: 32px;\n",
              "  }\n",
              "\n",
              "  .colab-df-quickchart:hover {\n",
              "    background-color: var(--hover-bg-color);\n",
              "    box-shadow: 0 1px 2px rgba(60, 64, 67, 0.3), 0 1px 3px 1px rgba(60, 64, 67, 0.15);\n",
              "    fill: var(--button-hover-fill-color);\n",
              "  }\n",
              "\n",
              "  .colab-df-quickchart-complete:disabled,\n",
              "  .colab-df-quickchart-complete:disabled:hover {\n",
              "    background-color: var(--disabled-bg-color);\n",
              "    fill: var(--disabled-fill-color);\n",
              "    box-shadow: none;\n",
              "  }\n",
              "\n",
              "  .colab-df-spinner {\n",
              "    border: 2px solid var(--fill-color);\n",
              "    border-color: transparent;\n",
              "    border-bottom-color: var(--fill-color);\n",
              "    animation:\n",
              "      spin 1s steps(1) infinite;\n",
              "  }\n",
              "\n",
              "  @keyframes spin {\n",
              "    0% {\n",
              "      border-color: transparent;\n",
              "      border-bottom-color: var(--fill-color);\n",
              "      border-left-color: var(--fill-color);\n",
              "    }\n",
              "    20% {\n",
              "      border-color: transparent;\n",
              "      border-left-color: var(--fill-color);\n",
              "      border-top-color: var(--fill-color);\n",
              "    }\n",
              "    30% {\n",
              "      border-color: transparent;\n",
              "      border-left-color: var(--fill-color);\n",
              "      border-top-color: var(--fill-color);\n",
              "      border-right-color: var(--fill-color);\n",
              "    }\n",
              "    40% {\n",
              "      border-color: transparent;\n",
              "      border-right-color: var(--fill-color);\n",
              "      border-top-color: var(--fill-color);\n",
              "    }\n",
              "    60% {\n",
              "      border-color: transparent;\n",
              "      border-right-color: var(--fill-color);\n",
              "    }\n",
              "    80% {\n",
              "      border-color: transparent;\n",
              "      border-right-color: var(--fill-color);\n",
              "      border-bottom-color: var(--fill-color);\n",
              "    }\n",
              "    90% {\n",
              "      border-color: transparent;\n",
              "      border-bottom-color: var(--fill-color);\n",
              "    }\n",
              "  }\n",
              "</style>\n",
              "\n",
              "  <script>\n",
              "    async function quickchart(key) {\n",
              "      const quickchartButtonEl =\n",
              "        document.querySelector('#' + key + ' button');\n",
              "      quickchartButtonEl.disabled = true;  // To prevent multiple clicks.\n",
              "      quickchartButtonEl.classList.add('colab-df-spinner');\n",
              "      try {\n",
              "        const charts = await google.colab.kernel.invokeFunction(\n",
              "            'suggestCharts', [key], {});\n",
              "      } catch (error) {\n",
              "        console.error('Error during call to suggestCharts:', error);\n",
              "      }\n",
              "      quickchartButtonEl.classList.remove('colab-df-spinner');\n",
              "      quickchartButtonEl.classList.add('colab-df-quickchart-complete');\n",
              "    }\n",
              "    (() => {\n",
              "      let quickchartButtonEl =\n",
              "        document.querySelector('#df-0089bf9e-57b4-4ae3-a315-29b310465f5c button');\n",
              "      quickchartButtonEl.style.display =\n",
              "        google.colab.kernel.accessAllowed ? 'block' : 'none';\n",
              "    })();\n",
              "  </script>\n",
              "</div>\n",
              "\n",
              "    </div>\n",
              "  </div>\n"
            ],
            "application/vnd.google.colaboratory.intrinsic+json": {
              "type": "dataframe",
              "variable_name": "dados",
              "summary": "{\n  \"name\": \"dados\",\n  \"rows\": 7461,\n  \"fields\": [\n    {\n      \"column\": \"Nome\",\n      \"properties\": {\n        \"dtype\": \"string\",\n        \"num_unique_values\": 4648,\n        \"samples\": [\n          \"Hoshigami: Ruining Blue Earth\",\n          \"Fallout: New Vegas\",\n          \"Resident Evil: Outbreak\"\n        ],\n        \"semantic_type\": \"\",\n        \"description\": \"\"\n      }\n    },\n    {\n      \"column\": \"Plataforma\",\n      \"properties\": {\n        \"dtype\": \"category\",\n        \"num_unique_values\": 17,\n        \"samples\": [\n          \"PC\",\n          \"PS\",\n          \"GBA\"\n        ],\n        \"semantic_type\": \"\",\n        \"description\": \"\"\n      }\n    },\n    {\n      \"column\": \"Ano Fabricado\",\n      \"properties\": {\n        \"dtype\": \"number\",\n        \"std\": 4,\n        \"min\": 1992,\n        \"max\": 2016,\n        \"num_unique_values\": 23,\n        \"samples\": [\n          2009,\n          2003,\n          1992\n        ],\n        \"semantic_type\": \"\",\n        \"description\": \"\"\n      }\n    },\n    {\n      \"column\": \"Gen\\u00earo\",\n      \"properties\": {\n        \"dtype\": \"category\",\n        \"num_unique_values\": 12,\n        \"samples\": [\n          \"Sports\",\n          \"Strategy\",\n          \"Shooter\"\n        ],\n        \"semantic_type\": \"\",\n        \"description\": \"\"\n      }\n    },\n    {\n      \"column\": \"Vendas Globais\",\n      \"properties\": {\n        \"dtype\": \"number\",\n        \"std\": 1.8891214721910143,\n        \"min\": 0.01,\n        \"max\": 82.53,\n        \"num_unique_values\": 543,\n        \"samples\": [\n          6.08,\n          9.86,\n          4.39\n        ],\n        \"semantic_type\": \"\",\n        \"description\": \"\"\n      }\n    },\n    {\n      \"column\": \"Pontua\\u00e7\\u00e3o User\",\n      \"properties\": {\n        \"dtype\": \"number\",\n        \"std\": 1.4984837313451436,\n        \"min\": 0.0,\n        \"max\": 9.7,\n        \"num_unique_values\": 95,\n        \"samples\": [\n          3.1,\n          9.3,\n          9.6\n        ],\n        \"semantic_type\": \"\",\n        \"description\": \"\"\n      }\n    },\n    {\n      \"column\": \"Contador do User\",\n      \"properties\": {\n        \"dtype\": \"number\",\n        \"std\": 561,\n        \"min\": 4,\n        \"max\": 10665,\n        \"num_unique_values\": 883,\n        \"samples\": [\n          326,\n          425,\n          343\n        ],\n        \"semantic_type\": \"\",\n        \"description\": \"\"\n      }\n    }\n  ]\n}"
            }
          },
          "metadata": {},
          "execution_count": 7
        }
      ],
      "source": [
        "import pandas as pd\n",
        "\n",
        "caminho_arquivo = \"video_games.csv\"\n",
        "dados = pd.read_csv(caminho_arquivo)\n",
        "\n",
        "dados.columns = [\"Nome\",\"Plataforma\",\"Ano Fabricado\", \"Genêro\", \"Vendas Globais\", \"Pontuação User\", \"Contador do User\"]\n",
        "dados.head()"
      ]
    },
    {
      "cell_type": "code",
      "source": [
        "contagem_jogos = dados[\"Nome\"].nunique()\n",
        "print(\"Total de jogos:\", contagem_jogos)\n",
        "\n",
        "import seaborn as sns\n",
        "import matplotlib.pyplot as plt\n",
        "\n",
        "sns.countplot(data=dados, x='Plataforma', palette = 'muted', order=dados['Plataforma'].value_counts().index)\n",
        "\n",
        "plt.title('Quantidade de jogos por plataforma')\n",
        "plt.xlabel('Plataforma')\n",
        "plt.ylabel('Número de Jogos')\n",
        "plt.xticks(rotation=45)\n",
        "plt.show()\n"
      ],
      "metadata": {
        "colab": {
          "base_uri": "https://localhost:8080/",
          "height": 598
        },
        "id": "gP7mrylDOw2B",
        "outputId": "917a0ea3-ff12-46fd-ddf0-86ba396abe00"
      },
      "execution_count": 8,
      "outputs": [
        {
          "output_type": "stream",
          "name": "stdout",
          "text": [
            "Total de jogos: 4648\n"
          ]
        },
        {
          "output_type": "stream",
          "name": "stderr",
          "text": [
            "<ipython-input-8-0b941e35dd22>:7: FutureWarning: \n",
            "\n",
            "Passing `palette` without assigning `hue` is deprecated and will be removed in v0.14.0. Assign the `x` variable to `hue` and set `legend=False` for the same effect.\n",
            "\n",
            "  sns.countplot(data=dados, x='Plataforma', palette = 'muted', order=dados['Plataforma'].value_counts().index)\n"
          ]
        },
        {
          "output_type": "display_data",
          "data": {
            "text/plain": [
              "<Figure size 640x480 with 1 Axes>"
            ],
            "image/png": "[encoded data removed]"
          },
          "metadata": {}
        }
      ]
    },
    {
      "cell_type": "code",
      "source": [
        "import pandas as pd\n",
        "\n",
        "contagem_generos = dados['Genêro'].value_counts()\n",
        "contagem_generos_df = contagem_generos.reset_index()\n",
        "contagem_generos_df.columns = ['Gênero', 'Quantidade']\n",
        "\n",
        "media_por_genero = dados.groupby('Genêro')['Pontuação User'].mean().reset_index()\n",
        "media_por_genero.columns = ['Gênero', 'Média Pontuação']\n",
        "\n",
        "resultado_df = pd.merge(contagem_generos_df, media_por_genero, on='Gênero')\n",
        "\n",
        "media_geral = dados['Pontuação User'].mean()\n",
        "print(\"Média das notas dos jogos é:\", media_geral.round(2))\n",
        "\n",
        "print(\"Sendo cada um deles: \")\n",
        "for _, row in resultado_df.iterrows():\n",
        "    print(f\"{row['Gênero']} -> {row['Quantidade']} jogos, Média das notas: {row['Média Pontuação']:.2f}\")\n"
      ],
      "metadata": {
        "colab": {
          "base_uri": "https://localhost:8080/"
        },
        "id": "bCcbXTmWSs3d",
        "outputId": "01e694ef-d896-4999-ae59-75c2ee8a018d"
      },
      "execution_count": 9,
      "outputs": [
        {
          "output_type": "stream",
          "name": "stdout",
          "text": [
            "Média das notas dos jogos é: 7.13\n",
            "Sendo cada um deles: \n",
            "Action -> 1796 jogos, Média das notas: 7.06\n",
            "Sports -> 1081 jogos, Média das notas: 6.95\n",
            "Shooter -> 905 jogos, Média das notas: 7.05\n",
            "Role-Playing -> 737 jogos, Média das notas: 7.62\n",
            "Racing -> 629 jogos, Média das notas: 7.04\n",
            "Misc -> 429 jogos, Média das notas: 6.81\n",
            "Platform -> 424 jogos, Média das notas: 7.31\n",
            "Fighting -> 395 jogos, Média das notas: 7.30\n",
            "Simulation -> 337 jogos, Média das notas: 7.15\n",
            "Strategy -> 305 jogos, Média das notas: 7.29\n",
            "Adventure -> 298 jogos, Média das notas: 7.14\n",
            "Puzzle -> 125 jogos, Média das notas: 7.14\n"
          ]
        }
      ]
    },
    {
      "cell_type": "code",
      "source": [
        "contagem_generos = dados['Genêro'].value_counts()\n",
        "sns.countplot(data=dados, x='Genêro', palette = 'pastel', order=dados['Genêro'].value_counts().index)\n",
        "plt.title('Quantidade de jogos por genêro')\n",
        "plt.xlabel('Genêro')\n",
        "plt.ylabel('Número de Jogos')\n",
        "plt.xticks(rotation=45)\n",
        "plt.show()"
      ],
      "metadata": {
        "colab": {
          "base_uri": "https://localhost:8080/",
          "height": 615
        },
        "id": "uMH7YLBG247l",
        "outputId": "fc4a8947-a418-48ff-f7e3-30262717d951"
      },
      "execution_count": 47,
      "outputs": [
        {
          "output_type": "stream",
          "name": "stderr",
          "text": [
            "<ipython-input-47-65eaa1b0721c>:2: FutureWarning: \n",
            "\n",
            "Passing `palette` without assigning `hue` is deprecated and will be removed in v0.14.0. Assign the `x` variable to `hue` and set `legend=False` for the same effect.\n",
            "\n",
            "  sns.countplot(data=dados, x='Genêro', palette = 'pastel', order=dados['Genêro'].value_counts().index)\n"
          ]
        },
        {
          "output_type": "display_data",
          "data": {
            "text/plain": [
              "<Figure size 640x480 with 1 Axes>"
            ],
            "image/png": "[encoded data removed]"
          },
          "metadata": {}
        }
      ]
    },
    {
      "cell_type": "code",
      "source": [
        "menor_data = dados['Ano Fabricado'].min()\n",
        "maior_data = dados['Ano Fabricado'].max()\n",
        "\n",
        "print(\"O jogo mais recente é do ano\", maior_data,\"e o menor\",menor_data)\n",
        "quantidade_menor_data = dados['Ano Fabricado'].value_counts().min()\n",
        "quantidade_maior_data = dados['Ano Fabricado'].value_counts().max()\n",
        "print(\"Sendo o mais recente a quantidade de\", quantidade_maior_data,\"e do mais antigo\",quantidade_menor_data)"
      ],
      "metadata": {
        "colab": {
          "base_uri": "https://localhost:8080/"
        },
        "id": "tg-2buk0w2mI",
        "outputId": "7b2a91ab-dec6-4da6-cfaa-d21efe340a32"
      },
      "execution_count": 20,
      "outputs": [
        {
          "output_type": "stream",
          "name": "stdout",
          "text": [
            "O jogo mais recente é do ano 2016 e o menor 1992\n",
            "Sendo o mais recente a quantidade de 661 e do mais antigo 1\n"
          ]
        }
      ]
    },
    {
      "cell_type": "code",
      "source": [
        "melhor_pontuacao = dados['Pontuação User'].max()\n",
        "jogos_melhores_pontuacoes = dados[dados['Pontuação User'] == melhor_pontuacao]['Nome']\n",
        "\n",
        "lista_melhores_jogos = jogos_melhores_pontuacoes.tolist()\n",
        "\n",
        "if len(lista_melhores_jogos)==1:\n",
        "    print(f\"O melhor jogo é: {lista_melhores_jogos[0]}, com a pontuação de:{melhor_pontuacao}\")\n",
        "else:\n",
        "    jogos_str = ', '.join(lista_melhores_jogos)\n",
        "    print(f\"Os jogos com a maior pontuação ({melhor_pontuacao}) são: {jogos_str}.\")\n",
        "\n",
        "pior_pontuacao = dados['Pontuação User'].min()\n",
        "jogos_piores_pontuacoes = dados[dados['Pontuação User'] == pior_pontuacao]['Nome']\n",
        "\n",
        "lista_piores_jogos = jogos_piores_pontuacoes.tolist()\n",
        "\n",
        "if len(lista_piores_jogos)==1:\n",
        "    print(f\"O pior jogo é: {lista_piores_jogos[0]}, com a pontuação de: {pior_pontuacao}\")\n",
        "else:\n",
        "    jogos_str = ', '.join(lista_piores_jogos)\n",
        "    print(f\"Os jogos com a pior pontuação ({pior_pontuacao}) são: {jogos_str}.\")"
      ],
      "metadata": {
        "colab": {
          "base_uri": "https://localhost:8080/"
        },
        "id": "vLHyu2lRzH-p",
        "outputId": "43cde43b-0ab9-4aed-840c-7e6ab8a26167"
      },
      "execution_count": 41,
      "outputs": [
        {
          "output_type": "stream",
          "name": "stdout",
          "text": [
            "O melhor jogo é: Breath of Fire III, com a pontuação de:9.7\n",
            "O pior jogo é: My Little Pony: Pinkie Pie's Party, com a pontuação de: 0.0\n"
          ]
        }
      ]
    }
  ]
}